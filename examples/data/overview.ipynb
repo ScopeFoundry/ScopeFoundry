{
 "cells": [
  {
   "cell_type": "code",
   "execution_count": null,
   "metadata": {},
   "outputs": [],
   "source": [
    "# CELL #1: Run analyze in ipynb and come back\n",
    "import numpy as np\n",
    "from matplotlib import pylab as plt\n",
    "\n",
    "\n",
    "from h5_data_loaders import load\n",
    "\n",
    "data = load(r'C:\\Users\\bened\\OneDrive\\foundry_scope\\scope_foundry\\ScopeFoundry\\examples\\data\\241106_153041_dummy_2d_scan.h5')"
   ]
  },
  {
   "cell_type": "code",
   "execution_count": null,
   "metadata": {},
   "outputs": [],
   "source": []
  },
  {
   "cell_type": "code",
   "execution_count": null,
   "metadata": {},
   "outputs": [],
   "source": [
    "plt.imshow(data.signal_map[0], extent=data.imshow_extent, origin=\"lower\")\n",
    "plt.colorbar()"
   ]
  }
 ],
 "metadata": {
  "kernelspec": {
   "display_name": "ucnp_modeler_313",
   "language": "python",
   "name": "python3"
  },
  "language_info": {
   "codemirror_mode": {
    "name": "ipython",
    "version": 3
   },
   "file_extension": ".py",
   "mimetype": "text/x-python",
   "name": "python",
   "nbconvert_exporter": "python",
   "pygments_lexer": "ipython3",
   "version": "3.13.0"
  }
 },
 "nbformat": 4,
 "nbformat_minor": 2
}
